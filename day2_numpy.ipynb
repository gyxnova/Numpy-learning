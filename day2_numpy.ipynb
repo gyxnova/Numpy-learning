{
  "nbformat": 4,
  "nbformat_minor": 0,
  "metadata": {
    "colab": {
      "provenance": []
    },
    "kernelspec": {
      "name": "python3",
      "display_name": "Python 3"
    },
    "language_info": {
      "name": "python"
    }
  },
  "cells": [
    {
      "cell_type": "code",
      "execution_count": null,
      "metadata": {
        "id": "4nB1KckZOtQJ"
      },
      "outputs": [],
      "source": [
        "import numpy as np"
      ]
    },
    {
      "cell_type": "code",
      "source": [
        "arr= np.array([1,2,3,4,5,67,78,90,6])\n",
        "print(\"basic slicing\",arr[2:7])\n",
        "print(\"with step\",arr[1:8:2])\n",
        "print(\"negative indexing\",arr[-3])\n",
        "arr_2d= np.arange(6).reshape(2,3)\n",
        "print(arr_2d)\n",
        "print(\"specific element\",arr_2d[1,1])\n",
        "print(\"specific element\",arr_2d[1])\n",
        "print(\"specific element\",arr_2d[:,1])\n",
        "unsorted = np.array([3,4,5,2,7,1,8,6,9,10])\n",
        "print(\"sorted array\",np.sort(unsorted))\n",
        "arr_2d_unsorted= np.array([[3,4,5],[2,7,1],[8,6,9]])\n",
        "print(\"sorted array\",np.sort(arr_2d_unsorted,axis=0))"
      ],
      "metadata": {
        "colab": {
          "base_uri": "https://localhost:8080/"
        },
        "id": "PVqPnSJxPChi",
        "outputId": "2b8333d5-bf4e-47d0-cb86-5db83c9e5a49"
      },
      "execution_count": null,
      "outputs": [
        {
          "output_type": "stream",
          "name": "stdout",
          "text": [
            "basic slicing [ 3  4  5 67 78]\n",
            "with step [ 2  4 67 90]\n",
            "negative indexing 78\n",
            "[[0 1 2]\n",
            " [3 4 5]]\n",
            "specific element 4\n",
            "specific element [3 4 5]\n",
            "specific element [1 4]\n",
            "sorted array [ 1  2  3  4  5  6  7  8  9 10]\n",
            "sorted array [[2 4 1]\n",
            " [3 6 5]\n",
            " [8 7 9]]\n"
          ]
        }
      ]
    },
    {
      "cell_type": "code",
      "source": [
        "# filter\n",
        "n=np.arange(11)\n",
        "even_number= n[n%2==0]\n",
        "print(even_number)\n",
        "#  with mask\n",
        "mask= (n>2) & (n<9)\n",
        "print(n[mask])\n",
        "# fancy indxing vs np.where()\n",
        "indices= [1,4,6]\n",
        "print(  n[indices])\n",
        "r= np.where(n>5)\n",
        "print(r)\n",
        "print(n[r])"
      ],
      "metadata": {
        "colab": {
          "base_uri": "https://localhost:8080/"
        },
        "id": "uqevm7w98pP2",
        "outputId": "a76791db-5b36-4fe2-84fb-8e37f1027dd3"
      },
      "execution_count": null,
      "outputs": [
        {
          "output_type": "stream",
          "name": "stdout",
          "text": [
            "[ 0  2  4  6  8 10]\n",
            "[3 4 5 6 7 8]\n",
            "[1 4 6]\n",
            "(array([ 6,  7,  8,  9, 10]),)\n",
            "[ 6  7  8  9 10]\n"
          ]
        }
      ]
    },
    {
      "cell_type": "code",
      "source": [
        "condition_array= np.where(n>5,n*4,n*2)\n",
        "print(condition_array)"
      ],
      "metadata": {
        "colab": {
          "base_uri": "https://localhost:8080/"
        },
        "id": "53gaeD1X-E9a",
        "outputId": "46a2231a-f909-4838-e0a1-95e005c044fc"
      },
      "execution_count": null,
      "outputs": [
        {
          "output_type": "stream",
          "name": "stdout",
          "text": [
            "[ 0  2  4  6  8 10 24 28 32 36 40]\n"
          ]
        }
      ]
    },
    {
      "cell_type": "code",
      "source": [
        "# adding and removing data\n",
        "arr1= np.array([1,2,3])\n",
        "arr2= np.array([4,5,6])\n",
        "c=arr1+arr2\n",
        "print(c)\n",
        "com=np.concatenate((arr1,arr2))\n",
        "print(com)"
      ],
      "metadata": {
        "colab": {
          "base_uri": "https://localhost:8080/"
        },
        "id": "vsYh-mqR-E7k",
        "outputId": "ee5b2314-e8e7-4664-96b8-f60c06a7b8fa"
      },
      "execution_count": null,
      "outputs": [
        {
          "output_type": "stream",
          "name": "stdout",
          "text": [
            "[5 7 9]\n",
            "[1 2 3 4 5 6]\n"
          ]
        }
      ]
    },
    {
      "cell_type": "code",
      "source": [
        "# array compatibility\n",
        "a=np.array([1,2,3])\n",
        "b=np.array([4,5,6,7])\n",
        "c=np.array([1,2,3,8,9,6,4])\n",
        "\n",
        "print(\"compatibility \",a.shape==b.shape==c.shape)"
      ],
      "metadata": {
        "colab": {
          "base_uri": "https://localhost:8080/"
        },
        "id": "JtJyh4rv-E5X",
        "outputId": "63545cff-1dc2-4b0d-a0e7-3f8e691df192"
      },
      "execution_count": null,
      "outputs": [
        {
          "output_type": "stream",
          "name": "stdout",
          "text": [
            "compatibility  False\n"
          ]
        }
      ]
    },
    {
      "cell_type": "code",
      "source": [
        "original=np.array([[1,2],[3,4]])\n",
        "new=np.array([5,6])\n",
        "print(original+new)\n",
        "with_new=np.vstack((original,new))\n",
        "print(with_new)\n",
        "with_col=np.hstack((original,new.reshape(2,1)))\n",
        "print(with_col)\n",
        "arr=np.array([1,2,3,4,5,6])\n",
        "dele = np.delete(arr,2)\n",
        "print(dele)#array after deleting that element from array"
      ],
      "metadata": {
        "colab": {
          "base_uri": "https://localhost:8080/"
        },
        "id": "VIUApMQHFaTn",
        "outputId": "b81b7f7d-dbb5-4c6e-aedc-9faa8dd4d2f2"
      },
      "execution_count": null,
      "outputs": [
        {
          "output_type": "stream",
          "name": "stdout",
          "text": [
            "[[ 6  8]\n",
            " [ 8 10]]\n",
            "[[1 2]\n",
            " [3 4]\n",
            " [5 6]]\n",
            "[[1 2 5]\n",
            " [3 4 6]]\n",
            "[1 2 4 5 6]\n"
          ]
        }
      ]
    }
  ]
}