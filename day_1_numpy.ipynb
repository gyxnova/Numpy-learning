{
  "nbformat": 4,
  "nbformat_minor": 0,
  "metadata": {
    "colab": {
      "provenance": [],
      "toc_visible": true
    },
    "kernelspec": {
      "name": "python3",
      "display_name": "Python 3"
    },
    "language_info": {
      "name": "python"
    }
  },
  "cells": [
    {
      "cell_type": "code",
      "execution_count": null,
      "metadata": {
        "id": "9Qgv_opZmrC1"
      },
      "outputs": [],
      "source": [
        "##numpy array and basics\n",
        "# learn about numpy with myself"
      ]
    },
    {
      "cell_type": "code",
      "source": [
        "import numpy as np"
      ],
      "metadata": {
        "id": "gFM7Dfn0ml0W"
      },
      "execution_count": null,
      "outputs": []
    },
    {
      "cell_type": "code",
      "source": [
        "# creating array from list\n",
        "arr_1d = np.array([1,2,3,4,5,6])\n",
        "print (\"1d array : \",arr_1d)\n",
        "arr_2d = np.array([[1,2,3],[4,5,6]])\n",
        "print (\"2d array : \",arr_2d)\n",
        "arr_3d = np.array([[[1,2,3],[4,5,6],[3,4,5]]])\n",
        "print (\"3d array : \",arr_3d)"
      ],
      "metadata": {
        "colab": {
          "base_uri": "https://localhost:8080/"
        },
        "id": "EKHGnq0hnHAS",
        "outputId": "7ab8916b-71f8-42b0-b0b6-2cd086651afb"
      },
      "execution_count": null,
      "outputs": [
        {
          "output_type": "stream",
          "name": "stdout",
          "text": [
            "1d array :  [1 2 3 4 5 6]\n",
            "2d array :  [[1 2 3]\n",
            " [4 5 6]]\n",
            "3d array :  [[[1 2 3]\n",
            "  [4 5 6]\n",
            "  [3 4 5]]]\n"
          ]
        }
      ]
    },
    {
      "cell_type": "code",
      "source": [
        "# list vs array\n",
        "py_list = [1,2,3]\n",
        "print(\"multiplication of list :\",py_list*2)\n",
        "\n",
        "nd_arr = np.array([1,2,3]) #element wise multiplication\n",
        "print(\"multiplication of array :\",nd_arr*2)"
      ],
      "metadata": {
        "colab": {
          "base_uri": "https://localhost:8080/"
        },
        "id": "Z1igyRUzqwf3",
        "outputId": "e7d351af-d20d-4314-b9f9-a39ee252b468"
      },
      "execution_count": null,
      "outputs": [
        {
          "output_type": "stream",
          "name": "stdout",
          "text": [
            "multiplication of list : [1, 2, 3, 1, 2, 3]\n",
            "multiplication of array : [2 4 6]\n"
          ]
        }
      ]
    },
    {
      "cell_type": "code",
      "source": [
        "z = np.zeros((4,3))\n",
        "print(\"arr :\",z)\n",
        "o = np.ones((4,3))\n",
        "print(\"arr :\",o)\n",
        "f = np.full((4,3),9)\n",
        "print(\"arr :\",f)\n",
        "r = np.random.random((4,3))*9\n",
        "print(\"arr :\",r)"
      ],
      "metadata": {
        "colab": {
          "base_uri": "https://localhost:8080/"
        },
        "id": "CeKIeG1YsK2N",
        "outputId": "85be12ac-f35a-4177-8539-99fc53dbcaed"
      },
      "execution_count": null,
      "outputs": [
        {
          "output_type": "stream",
          "name": "stdout",
          "text": [
            "arr : [[0. 0. 0.]\n",
            " [0. 0. 0.]\n",
            " [0. 0. 0.]\n",
            " [0. 0. 0.]]\n",
            "arr : [[1. 1. 1.]\n",
            " [1. 1. 1.]\n",
            " [1. 1. 1.]\n",
            " [1. 1. 1.]]\n",
            "arr : [[9 9 9]\n",
            " [9 9 9]\n",
            " [9 9 9]\n",
            " [9 9 9]]\n",
            "arr : [[5.82322626 4.13094995 6.22164279]\n",
            " [1.93015914 5.52666357 5.55603186]\n",
            " [7.20202396 3.79597351 1.10069293]\n",
            " [5.26946704 5.96444574 0.25789466]]\n"
          ]
        }
      ]
    },
    {
      "cell_type": "code",
      "source": [
        "# /array prop\n",
        "arr=np.array([[1,23,3],[3,4,5]])\n",
        "print(\"shape :\", arr.shape)\n",
        "print(\"dimn :\", arr.ndim)\n",
        "print(\"size:\", arr.size)\n",
        "print(\"d type:\", arr.dtype)"
      ],
      "metadata": {
        "colab": {
          "base_uri": "https://localhost:8080/"
        },
        "id": "T81QyVTivq-t",
        "outputId": "84878e98-5710-46ef-82bb-1ee67a935b79"
      },
      "execution_count": null,
      "outputs": [
        {
          "output_type": "stream",
          "name": "stdout",
          "text": [
            "shape : (2, 3)\n",
            "dimn : 2\n",
            "size: 6\n",
            "d type: int64\n"
          ]
        }
      ]
    },
    {
      "cell_type": "code",
      "source": [
        "# array reshape\n",
        "a= np.arange(12)\n",
        "print(\"original array\" , a)"
      ],
      "metadata": {
        "id": "Tx7uWJ1Ty3uP",
        "colab": {
          "base_uri": "https://localhost:8080/"
        },
        "outputId": "614e669b-ea56-4192-c21e-086ecadafd55"
      },
      "execution_count": null,
      "outputs": [
        {
          "output_type": "stream",
          "name": "stdout",
          "text": [
            "original array [ 0  1  2  3  4  5  6  7  8  9 10 11]\n"
          ]
        }
      ]
    },
    {
      "cell_type": "code",
      "source": [],
      "metadata": {
        "id": "EmdbEGw0XP2l"
      },
      "execution_count": null,
      "outputs": []
    },
    {
      "cell_type": "code",
      "metadata": {
        "colab": {
          "base_uri": "https://localhost:8080/"
        },
        "id": "3e354d0e",
        "outputId": "56b3d83e-6dbc-4d82-c8d9-b3d37ca5fb87"
      },
      "source": [
        "# array reshape\n",
        "a= np.arange(12).reshape(4,3)\n",
        "print(\"original array\" , a)\n",
        "r=a.flatten()\n",
        "print (r)#ravel (return view ,instead of copy)\n",
        "# transpose\n",
        "t= a.T\n",
        "print(t)\n"
      ],
      "execution_count": null,
      "outputs": [
        {
          "output_type": "stream",
          "name": "stdout",
          "text": [
            "original array [[ 0  1  2]\n",
            " [ 3  4  5]\n",
            " [ 6  7  8]\n",
            " [ 9 10 11]]\n",
            "[ 0  1  2  3  4  5  6  7  8  9 10 11]\n",
            "[[ 0  3  6  9]\n",
            " [ 1  4  7 10]\n",
            " [ 2  5  8 11]]\n"
          ]
        }
      ]
    },
    {
      "cell_type": "code",
      "source": [
        "a = np.array([20, 30, 40, 50])\n",
        "b = np.arange(4)\n",
        "b\n",
        "c = a - b\n",
        "c\n",
        "b**2\n",
        "np.sin(a)\n",
        "# a < 35"
      ],
      "metadata": {
        "colab": {
          "base_uri": "https://localhost:8080/"
        },
        "id": "JDznVqn3Yk0-",
        "outputId": "23b8e8cd-a534-4943-8722-2490e62672ea"
      },
      "execution_count": null,
      "outputs": [
        {
          "output_type": "execute_result",
          "data": {
            "text/plain": [
              "array([ 0.91294525, -0.98803162,  0.74511316, -0.26237485])"
            ]
          },
          "metadata": {},
          "execution_count": 9
        }
      ]
    },
    {
      "cell_type": "code",
      "source": [
        "a= np.arange(15).reshape(3,5)\n",
        "a\n",
        "a.shape\n",
        "a.ndim\n",
        "a.dtype.name\n",
        "a.itemsize\n",
        "a.size\n",
        "type(a)\n",
        "c=np.array([[1,2],[3,4]],dtype=complex)\n",
        "c\n",
        "np.zeros((3,4))\n",
        "np.ones((2,3,4),dtype=np.int16)\n",
        "np.empty((2,3))\n",
        "np.arange(10,30,5)\n",
        "np.arange(0,2,0.3)\n",
        "from numpy import pi\n",
        "np.linspace(0,2,9)\n",
        "x=np.linspace(0,2*pi,100)\n",
        "f=np.sin(x)"
      ],
      "metadata": {
        "id": "M9KVYwgtaiQ8"
      },
      "execution_count": null,
      "outputs": []
    },
    {
      "cell_type": "code",
      "source": [
        "A = np.array([[1, 1],\n",
        "              [0, 1]])\n",
        "B = np.array([[2, 0],\n",
        "              [3, 4]])\n",
        "A * B     # elementwise product\n",
        "A @ B     # matrix product\n",
        "A.dot(B)  # another matrix product"
      ],
      "metadata": {
        "colab": {
          "base_uri": "https://localhost:8080/"
        },
        "id": "yMN1mwVxC65C",
        "outputId": "1b91ddb1-8fb7-4fb1-f858-808023c54392"
      },
      "execution_count": null,
      "outputs": [
        {
          "output_type": "execute_result",
          "data": {
            "text/plain": [
              "array([[5, 4],\n",
              "       [3, 4]])"
            ]
          },
          "metadata": {},
          "execution_count": 41
        }
      ]
    },
    {
      "cell_type": "code",
      "source": [
        "rg = np.random.default_rng(1)  # create instance of default random number generator\n",
        "rg\n",
        "a = np.ones((2, 3), dtype=int)\n",
        "a\n",
        "b = rg.random((2, 3))\n",
        "b\n",
        "a *= 3\n",
        "a\n",
        "b += a\n",
        "b\n",
        "# a += b  # b is not automatically converted to integer type\n"
      ],
      "metadata": {
        "colab": {
          "base_uri": "https://localhost:8080/"
        },
        "id": "0e30acbaGQxO",
        "outputId": "09abcb83-ef0f-4fc9-e59d-ec8b8ea5bdd0"
      },
      "execution_count": null,
      "outputs": [
        {
          "output_type": "execute_result",
          "data": {
            "text/plain": [
              "array([[3.51182162, 3.9504637 , 3.14415961],\n",
              "       [3.94864945, 3.31183145, 3.42332645]])"
            ]
          },
          "metadata": {},
          "execution_count": 56
        }
      ]
    },
    {
      "cell_type": "code",
      "source": [
        "a = rg.random((2, 3))\n",
        "a\n",
        "a.sum(axis= 0 )\n",
        "a.min(axis=1)\n",
        "a.cumsum(axis=1)\n",
        "B = np.arange(3)\n",
        "B\n",
        "np.exp(B)\n",
        "np.sqrt(B)\n",
        "C = np.array([2., -1., 4.])\n",
        "C\n",
        "np.add(B, C)"
      ],
      "metadata": {
        "colab": {
          "base_uri": "https://localhost:8080/"
        },
        "id": "mYGoEETQKIz6",
        "outputId": "aca625a7-c8d2-48fc-e1d5-2f542757f07b"
      },
      "execution_count": null,
      "outputs": [
        {
          "output_type": "execute_result",
          "data": {
            "text/plain": [
              "array([2., 0., 6.])"
            ]
          },
          "metadata": {},
          "execution_count": 70
        }
      ]
    }
  ]
}